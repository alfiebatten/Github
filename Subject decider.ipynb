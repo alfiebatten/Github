{
 "cells": [
  {
   "cell_type": "markdown",
   "metadata": {},
   "source": [
    "# SUBJECT DECIDER\n",
    "### `W H A T'S  Y O U R  F U T U R E ?`"
   ]
  },
  {
   "cell_type": "code",
   "execution_count": null,
   "metadata": {},
   "outputs": [
    {
     "name": "stdout",
     "output_type": "stream",
     "text": [
      "\u001b[1;30;1m  \n",
      "\n",
      "Welcome to the University subject decider\n",
      "Please put down what A-levels you have out of the three choices...\n",
      "\u001b[1;31;1m Maths\n",
      "\u001b[1;34;1m Computer Science\n",
      "\u001b[1;32;1m Biology\n",
      "\u001b[1;30;1m\n"
     ]
    }
   ],
   "source": [
    "#Setup \n",
    "import time \n",
    "\n",
    "print(\"\\033[1;30;1m  \\n\")\n",
    "print(\"Welcome to the University subject decider\")\n",
    "time.sleep(1)\n",
    "print(\"Please put down what A-levels you have out of the three choices...\")\n",
    "time.sleep(1.5)\n",
    "print(\"\\033[1;31;1m Maths\")\n",
    "print(\"\\033[1;34;1m Computer Science\")\n",
    "print(\"\\033[1;32;1m Biology\")\n",
    "print(\"\\033[1;30;1m\")\n",
    "time.sleep(2)\n",
    "maths = input(\"Do you have a Maths A-level? \")\n",
    "if maths == \"yes\" or maths == \"Yes\":\n",
    "\n"
   ]
  }
 ],
 "metadata": {
  "kernelspec": {
   "display_name": "Python 3",
   "language": "python",
   "name": "python3"
  },
  "language_info": {
   "codemirror_mode": {
    "name": "ipython",
    "version": 3
   },
   "file_extension": ".py",
   "mimetype": "text/x-python",
   "name": "python",
   "nbconvert_exporter": "python",
   "pygments_lexer": "ipython3",
   "version": "3.5.2"
  }
 },
 "nbformat": 4,
 "nbformat_minor": 2
}
