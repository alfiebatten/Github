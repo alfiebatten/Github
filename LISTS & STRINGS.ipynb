{
 "cells": [
  {
   "cell_type": "markdown",
   "metadata": {},
   "source": [
    "# LISTS & STRINGS\n",
    "## `H O W  T O  D O  T H E M  C O R R E C T L Y`\n"
   ]
  },
  {
   "cell_type": "markdown",
   "metadata": {},
   "source": [
    "Make sure you create a variable containting a list"
   ]
  },
  {
   "cell_type": "code",
   "execution_count": 1,
   "metadata": {},
   "outputs": [
    {
     "data": {
      "text/plain": [
       "['spam', 'eggs', 'spam', 'eggs']"
      ]
     },
     "execution_count": 1,
     "metadata": {},
     "output_type": "execute_result"
    }
   ],
   "source": [
    "myList = [\"spam\", \"eggs\", \"spam\", \"eggs\"]\n",
    "myList"
   ]
  },
  {
   "cell_type": "markdown",
   "metadata": {},
   "source": [
    "## Useful commands to do with lists\n",
    "\n",
    "len(myList) - to get the amount of numbers/strings in your list\n",
    "\n",
    "sum(myList) - to add all the values of your list\n",
    "\n",
    "min(myList) - to get the minimum value of your list\n",
    "\n",
    "max(myList) - to get the max value of your list \n",
    "\n",
    "sorted(myList) - to sort your list from smallest to largest \n",
    "\n",
    "myList[add value] - will print that position in the list\n",
    "\n",
    "\n",
    "#### Try them below"
   ]
  },
  {
   "cell_type": "code",
   "execution_count": 4,
   "metadata": {},
   "outputs": [
    {
     "data": {
      "text/plain": [
       "[1, 2, 3, 4, 5, 6, 7, 8, 9]"
      ]
     },
     "execution_count": 4,
     "metadata": {},
     "output_type": "execute_result"
    }
   ],
   "source": [
    "myList2 = [1,2,3,4,5,6,7,8,9]\n",
    "myList2\n"
   ]
  },
  {
   "cell_type": "code",
   "execution_count": 5,
   "metadata": {},
   "outputs": [
    {
     "data": {
      "text/plain": [
       "4"
      ]
     },
     "execution_count": 5,
     "metadata": {},
     "output_type": "execute_result"
    }
   ],
   "source": [
    "len(myList) "
   ]
  },
  {
   "cell_type": "code",
   "execution_count": 6,
   "metadata": {},
   "outputs": [
    {
     "data": {
      "text/plain": [
       "45"
      ]
     },
     "execution_count": 6,
     "metadata": {},
     "output_type": "execute_result"
    }
   ],
   "source": [
    "sum(myList2)"
   ]
  },
  {
   "cell_type": "code",
   "execution_count": 9,
   "metadata": {},
   "outputs": [
    {
     "name": "stdout",
     "output_type": "stream",
     "text": [
      "eggs\n",
      "1\n"
     ]
    }
   ],
   "source": [
    "print(min(myList))\n",
    "print(min(myList2))"
   ]
  },
  {
   "cell_type": "code",
   "execution_count": 10,
   "metadata": {},
   "outputs": [
    {
     "name": "stdout",
     "output_type": "stream",
     "text": [
      "spam\n",
      "9\n"
     ]
    }
   ],
   "source": [
    "print(max(myList))\n",
    "print(max(myList2))"
   ]
  },
  {
   "cell_type": "code",
   "execution_count": 13,
   "metadata": {},
   "outputs": [
    {
     "name": "stdout",
     "output_type": "stream",
     "text": [
      "['eggs', 'eggs', 'spam', 'spam']\n",
      "[1, 2, 3, 4, 5, 6, 7, 8, 9]\n"
     ]
    }
   ],
   "source": [
    "print(sorted(myList))\n",
    "print(sorted(myList2))"
   ]
  },
  {
   "cell_type": "code",
   "execution_count": 14,
   "metadata": {},
   "outputs": [
    {
     "data": {
      "text/plain": [
       "'eggs'"
      ]
     },
     "execution_count": 14,
     "metadata": {},
     "output_type": "execute_result"
    }
   ],
   "source": [
    "myList[3]"
   ]
  },
  {
   "cell_type": "markdown",
   "metadata": {},
   "source": [
    "## TASK 1\n",
    "### Declare a list of names \n",
    "\n",
    "1) Print values with EVEN array index values\n",
    "\n",
    "2) Randomly pick one \"box\" and print its value\n",
    "\n",
    "3) Use a for loop backwards to print a list backwards\n",
    "\n",
    "4) Step through a list of word print only the LAST letter of each word\n",
    "\n",
    "5) Step through a list of word print a random letter of each word"
   ]
  },
  {
   "cell_type": "code",
   "execution_count": 83,
   "metadata": {},
   "outputs": [],
   "source": [
    "task1 = [\"zero\", \"one\", \"two\", \"three\", \"four\", \"five\", \"six\", \"seven\", \"eight\", \"nine\"]"
   ]
  },
  {
   "cell_type": "code",
   "execution_count": null,
   "metadata": {},
   "outputs": [],
   "source": []
  },
  {
   "cell_type": "code",
   "execution_count": 71,
   "metadata": {},
   "outputs": [
    {
     "data": {
      "text/plain": [
       "'one'"
      ]
     },
     "execution_count": 71,
     "metadata": {},
     "output_type": "execute_result"
    }
   ],
   "source": [
    "import random\n",
    "randValue = random.randint(0,9)\n",
    "task1[randValue]"
   ]
  },
  {
   "cell_type": "code",
   "execution_count": 86,
   "metadata": {},
   "outputs": [
    {
     "name": "stdout",
     "output_type": "stream",
     "text": [
      "9\n",
      "8\n",
      "7\n",
      "6\n",
      "5\n",
      "4\n",
      "3\n",
      "2\n",
      "1\n"
     ]
    }
   ],
   "source": [
    "for task1 in range (9, 0, -1):\n",
    "    print(task1)"
   ]
  },
  {
   "cell_type": "markdown",
   "metadata": {},
   "source": [
    "## Task 2\n",
    "### Strong Password\n",
    "Write a function that creates a STRONG password for a user, given a simple word that the user enters. It used the following algorithm:\n",
    "\t\n",
    "    1) Each I in the word is replaced with a 1\n",
    "\t\n",
    "    2) Each S in the word is replaced with a 5\n",
    "\t\n",
    "    3) The length of the word is appended to the end of the password."
   ]
  },
  {
   "cell_type": "code",
   "execution_count": null,
   "metadata": {},
   "outputs": [],
   "source": [
    "print(\"\\033[1;34;1m  \\n\")\n",
    "# makes the colour of the title blue\n",
    "print(\"WELCOME TO THE PASSWORD CREATOR\")\n",
    "# Introduction title to the program\n",
    "\n",
    "print(\"\\033[1;30;1m  \\n\")\n",
    "# turns the text back to black\n",
    "question = input(\"Do you want to add your date of birth to your password? \\n\").lower()\n",
    "question2 = input(\"Do you want to add the length of your password to the end of it? \\n\").lower()\n",
    "question3 = input(\"Do you want to change some of the letters in your password to numbers? \\n\").lower()\n",
    "# asks the user quesitons to differ the code to their desired needs\n",
    "\n",
    "if question == \"yes\" and question2 == \"yes\" and question3 == \"yes\":\n",
    "# if all three questions equal 'yes', then do this...\n",
    "    year = input(\"What year were your born? \\n\")\n",
    "    # asks user what year they were born because they said they wanted to add there DOB to their password\n",
    "    password = input(\"Enter a password? \\n\").lower()\n",
    "    # asks the user what they want their password to be\n",
    "    length = str(len(password))\n",
    "    # works out how many characters are in the users password becuase they want to add that value to their password\n",
    "    password = (password.replace (\"i\", \"1\"))\n",
    "    password = (password.replace (\"s\", \"5\"))\n",
    "    password = (password.replace (\"a\", \"4\"))\n",
    "    password = (password.replace (\" \", \"_\"))\n",
    "    # the user said they wanted some characters in their password changed to numbers so this replaces letters to numbers\n",
    "    print(password + year + length)\n",
    "    # prints their new, secure password\n",
    "    \n",
    "elif question == \"yes\" and question2 == \"yes\" and question3 == \"no\":\n",
    "# if question one and two equal 'yes' but three equals 'no', do this...\n",
    "    year = input(\"What year were your born? \\n\")\n",
    "    # asks user what year they were born because they said they wanted to add there DOB to their password\n",
    "    password = input(\"Enter a password? \\n\").lower()\n",
    "    # asks the user what they want their password to be\n",
    "    length = str(len(password))\n",
    "    # works out how many characters are in the users password becuase they want to add that value to their password\n",
    "    print(password + year + length)\n",
    "    # prints their new, secure password\n",
    "    \n",
    "elif question == \"yes\" and question2 == \"no\" and question3 == \"yes\":\n",
    "# if question one and three equal 'yes' but two equals 'no', do this...\n",
    "    year = input(\"What year were your born? \\n\")\n",
    "    # asks user what year they were born because they said they wanted to add there DOB to their password\n",
    "    password = input(\"Enter a password? \\n\").lower()\n",
    "    # asks the user what they want their password to be\n",
    "    password = (password.replace (\"i\", \"1\"))\n",
    "    password = (password.replace (\"s\", \"5\"))\n",
    "    password = (password.replace (\"a\", \"4\"))\n",
    "    password = (password.replace (\" \", \"_\"))\n",
    "    # the user said they wanted some characters in their password changed to numbers so this replaces letters to numbers\n",
    "    print(password + year)\n",
    "    # prints their new, secure password\n",
    "    \n",
    "elif question == \"yes\" and question2 == \"no\" and question3 == \"no\":\n",
    "# if question one equals 'yes' but two and three equal 'no', do this...\n",
    "    year = input(\"What year were your born? \\n\")\n",
    "    # asks user what year they were born because they said they wanted to add there DOB to their password\n",
    "    password = input(\"Enter a password? \\n\").lower()\n",
    "    # asks the user what they want their password to be\n",
    "    print(password + year)\n",
    "    # prints their new, secure password\n",
    "    \n",
    "elif question == \"no\" and question2 == \"yes\" and queston3 == \"yes\":\n",
    "# if question two and three equal 'yes' but three equals 'no', do this...\n",
    "    password = input(\"Enter a password? \\n\").lower()\n",
    "    # asks the user what they want their password to be\n",
    "    length = str(len(password))\n",
    "    # works out how many characters are in the users password becuase they want to add that value to their password\n",
    "    password = (password.replace (\"i\", \"1\"))\n",
    "    password = (password.replace (\"s\", \"5\"))\n",
    "    password = (password.replace (\"a\", \"4\"))\n",
    "    password = (password.replace (\" \", \"_\"))\n",
    "    # the user said they wanted some characters in their password changed to numbers so this replaces letters to numbers\n",
    "    print(password + length)\n",
    "    # prints their new, secure password\n",
    "    \n",
    "elif question == \"no\" and question2 == \"yes\" and queston3 == \"no\":\n",
    "# if question two equals 'yes' but one and three equal 'no', do this...\n",
    "    password = input(\"Enter a password? \\n\").lower()\n",
    "    # asks the user what they want their password to be\n",
    "    length = str(len(password))\n",
    "    # works out how many characters are in the users password becuase they want to add that value to their password\n",
    "    print(password + length)\n",
    "    # prints their new, secure password\n",
    "    \n",
    "elif question == \"no\" and question2 == \"no\" and question3 == \"yes\":\n",
    "# if question three equals 'yes' but one and two equal 'no', do this...\n",
    "    password = input(\"Enter a password? \\n\").lower()\n",
    "    # asks the user what they want their password to be\n",
    "    password = (password.replace (\"i\", \"1\"))\n",
    "    password = (password.replace (\"s\", \"5\"))\n",
    "    password = (password.replace (\"a\", \"4\"))\n",
    "    password = (password.replace (\" \", \"_\"))\n",
    "    # the user said they wanted some characters in their password changed to numbers so this replaces letters to numbers\n",
    "    print(password)\n",
    "    # prints their new, secure password\n",
    "    \n",
    "elif question == \"no\" and question2 == \"no\" and question3 == \"no\":\n",
    "# if all three questions equal 'no', do this...\n",
    "    password = input(\"Enter a password? \\n\").lower()\n",
    "    # asks the user what they want their password to be\n",
    "    print(password)\n",
    "    # prints their origial password\n",
    "    \n",
    "else:\n",
    "# if one of the questions does not equal 'yes' or 'no' do this...\n",
    "    print(\"\\033[1;31;1m\")\n",
    "    # turns the colour of the text red\n",
    "    print(\"INVALD ANSWER\")\n",
    "    # tells the user its an invalid answer\n",
    "    exit()\n",
    "    # stops the code"
   ]
  },
  {
   "cell_type": "code",
   "execution_count": null,
   "metadata": {},
   "outputs": [],
   "source": []
  },
  {
   "cell_type": "code",
   "execution_count": null,
   "metadata": {},
   "outputs": [],
   "source": []
  }
 ],
 "metadata": {
  "kernelspec": {
   "display_name": "Python 3",
   "language": "python",
   "name": "python3"
  },
  "language_info": {
   "codemirror_mode": {
    "name": "ipython",
    "version": 3
   },
   "file_extension": ".py",
   "mimetype": "text/x-python",
   "name": "python",
   "nbconvert_exporter": "python",
   "pygments_lexer": "ipython3",
   "version": "3.5.2"
  }
 },
 "nbformat": 4,
 "nbformat_minor": 2
}
