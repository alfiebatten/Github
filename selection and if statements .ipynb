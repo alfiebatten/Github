{
 "cells": [
  {
   "cell_type": "markdown",
   "metadata": {},
   "source": [
    "# SELECTION: Making decisions: The IF/ELSE statement "
   ]
  },
  {
   "cell_type": "code",
   "execution_count": 28,
   "metadata": {},
   "outputs": [
    {
     "name": "stdout",
     "output_type": "stream",
     "text": [
      "you are too young\n"
     ]
    }
   ],
   "source": [
    "name = 'fred'\n",
    "age = 12\n",
    "if age > 10:\n",
    "    print('You are old enough!')\n",
    "else:\n",
    "    print('You are too young')"
   ]
  },
  {
   "cell_type": "code",
   "execution_count": 26,
   "metadata": {},
   "outputs": [
    {
     "name": "stdout",
     "output_type": "stream",
     "text": [
      "what should this message be??\n"
     ]
    }
   ],
   "source": [
    "name = 'fred'\n",
    "age = 125\n",
    "if age == 10:\n",
    "    print('you are too young')\n",
    "elif age == 11:\n",
    "    print('you are still too young')\n",
    "elif age == 12:\n",
    "    print('you are exactly old enough')\n",
    "else:\n",
    "    print('what should this message be??')\n",
    "\n",
    "[!img=]"
   ]
  }
 ],
 "metadata": {
  "kernelspec": {
   "display_name": "Python 3",
   "language": "python",
   "name": "python3"
  },
  "language_info": {
   "codemirror_mode": {
    "name": "ipython",
    "version": 3
   },
   "file_extension": ".py",
   "mimetype": "text/x-python",
   "name": "python",
   "nbconvert_exporter": "python",
   "pygments_lexer": "ipython3",
   "version": "3.5.2"
  }
 },
 "nbformat": 4,
 "nbformat_minor": 2
}
