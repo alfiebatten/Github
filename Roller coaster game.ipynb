{
 "cells": [
  {
   "cell_type": "markdown",
   "metadata": {},
   "source": [
    "# ROLLER COASTER ROLEPLAY GAME\n",
    "### Input Your Name And Height And Let Your Fate Unfold In Front Of You"
   ]
  },
  {
   "cell_type": "code",
   "execution_count": 2,
   "metadata": {},
   "outputs": [
    {
     "name": "stdout",
     "output_type": "stream",
     "text": [
      "What is your name? t\n",
      "Hi! t\n",
      "Nice to meet you!\n",
      "How tall are you? 3\n",
      "t ques up to get on the ride\n",
      "You check to see if you're allowed to go on\n",
      "The person who works there turns to you and says...\n",
      "'You are able to ride this! HAVE FUN!'\n",
      "5 mins later....\n",
      "3 2 1 GO GO GO!\n",
      "WHOOOOOOOOOOOP!!!\n"
     ]
    }
   ],
   "source": [
    "name = input(\"What is your name? \")\n",
    "# asks the user their name\n",
    "print(\"Hi!\", name)\n",
    "print(\"Nice to meet you!\")\n",
    "\n",
    "height = int(input(\"How tall are you? \"))\n",
    "# asks the user their height\n",
    "if height < 140:\n",
    "# if they are smaller than 140, do this..\n",
    "    print(name,\"ques up to get on the ride\")\n",
    "    print(\"You check to see if you're allowed to go on\")\n",
    "    print(\"The person who works there turns to you and says...\")\n",
    "    print(\"'You are to small to ride this attraction'\")\n",
    "    print(\"'Please come back When you are 140cm tall!'\")\n",
    "    print(name, \"*walks off in sadness*\")\n",
    "    print(\"*But then you see a cool ice cream stall and buy a strawbery ice cream*\")\n",
    "\n",
    "elif height > 190:\n",
    "# if you are taller than 190, do this...\n",
    "    print(name, \"ques up to get on the ride\")\n",
    "    print(\"You check to see if you're allowed to go on\")\n",
    "    print(\"The person who works there turns to you and says...\")\n",
    "    print(\"'You are to tall to ride this attraction'\")\n",
    "    print(\"'Please wear shoes with smaller soles next time!'\")\n",
    "    print(name, \"*realises they are a giant and goes to climb back up their beanstalk*\")\n",
    "\n",
    "else:\n",
    "# if you are the right height, do this\n",
    "    print(name, \"ques up to get on the ride\")\n",
    "    print(\"You check to see if you're allowed to go on\")\n",
    "    print(\"The person who works there turns to you and says...\")\n",
    "    print(\"'You are able to ride this! HAVE FUN!'\")\n",
    "    print(\"5 mins later....\")\n",
    "    print(\"3 2 1 GO GO GO!\")\n",
    "    print(\"WHOOOOOOOOOOOP!!!\")\n"
   ]
  },
  {
   "cell_type": "code",
   "execution_count": null,
   "metadata": {
    "collapsed": true
   },
   "outputs": [],
   "source": []
  },
  {
   "cell_type": "code",
   "execution_count": null,
   "metadata": {
    "collapsed": true
   },
   "outputs": [],
   "source": []
  },
  {
   "cell_type": "code",
   "execution_count": null,
   "metadata": {
    "collapsed": true
   },
   "outputs": [],
   "source": []
  }
 ],
 "metadata": {
  "kernelspec": {
   "display_name": "Python 3",
   "language": "python",
   "name": "python3"
  },
  "language_info": {
   "codemirror_mode": {
    "name": "ipython",
    "version": 3
   },
   "file_extension": ".py",
   "mimetype": "text/x-python",
   "name": "python",
   "nbconvert_exporter": "python",
   "pygments_lexer": "ipython3",
   "version": "3.5.2"
  }
 },
 "nbformat": 4,
 "nbformat_minor": 2
}
