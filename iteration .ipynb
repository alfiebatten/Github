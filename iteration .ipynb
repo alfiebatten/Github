{
 "cells": [
  {
   "cell_type": "code",
   "execution_count": 117,
   "metadata": {},
   "outputs": [
    {
     "name": "stdout",
     "output_type": "stream",
     "text": [
      "0,2,4,6,8,10,12,14,16,18,20,22,24,26,28,30,32,34,36,38,40,42,44,46,48,50,52,54,56,58,60,62,64,66,68,70,72,74,76,78,80,82,84,86,88,90,92,94,96,98,"
     ]
    }
   ],
   "source": [
    "for counter in range(0,100,2): # first value is your start value, second value is your end value, third value is your jump \n",
    "    print(counter,end=\",\")"
   ]
  },
  {
   "cell_type": "code",
   "execution_count": 116,
   "metadata": {},
   "outputs": [
    {
     "name": "stdout",
     "output_type": "stream",
     "text": [
      "do you want to continue? press s to stop x\n",
      "do you want to continue? press s to stop x\n",
      "do you want to continue? press s to stop x\n",
      "do you want to continue? press s to stop x\n",
      "do you want to continue? press s to stop x\n",
      "do you want to continue? press s to stop s\n"
     ]
    }
   ],
   "source": [
    "loopVar = \"x\"\n",
    "while loopVar == \"x\":\n",
    "    loopVar = input(\"do you want to continue? press s to stop \").lower()"
   ]
  },
  {
   "cell_type": "code",
   "execution_count": 306,
   "metadata": {},
   "outputs": [
    {
     "name": "stdout",
     "output_type": "stream",
     "text": [
      "you did not win this time but you have 4 lives left\n",
      "you did not win this time but you have 3 lives left\n",
      "you did not win this time but you have 2 lives left\n",
      "you did not win this time but you have 1 lives left\n",
      "you did not win this time but you have 0 lives left\n"
     ]
    }
   ],
   "source": [
    "import random\n",
    "won = False #at the start the game has not been won \n",
    "lives = 5 #you start with 5 lives \n",
    "\n",
    "while not won and lives > 0 :\n",
    "    lives = lives -1 #lose a life on each round\n",
    "    x= random.randint(0,10)\n",
    "    if x == 10 or x == 9:\n",
    "        won = True \n",
    "        print(\"YEAH! you have won!\")\n",
    "    else: \n",
    "        print(\"you did not win this time but you have\", lives, \"lives left\")"
   ]
  },
  {
   "cell_type": "code",
   "execution_count": 2,
   "metadata": {},
   "outputs": [
    {
     "name": "stdout",
     "output_type": "stream",
     "text": [
      "0*1*2*3*4*5*6*7*8*9*10*11*12*13*14*15*16*17*18*19*20*21*22*23*24*25*26*27*28*29*30*31*32*33*34*35*36*37*38*39*40*41*42*43*44*45*46*47*48*49*50*51*52*53*54*55*56*57*58*59*60*61*62*63*64*65*66*67*68*69*70*71*72*73*74*75*76*77*78*79*80*81*82*83*84*85*86*87*88*89*90*91*92*93*94*95*96*97*98*99*"
     ]
    }
   ],
   "source": [
    "for counter in range(0,100,1):\n",
    "    print(counter,end=\"*\")"
   ]
  },
  {
   "cell_type": "code",
   "execution_count": 27,
   "metadata": {},
   "outputs": [
    {
     "name": "stdout",
     "output_type": "stream",
     "text": [
      "10,9,8,7,6,5,4,3,2,1,BLAST OFF! \n"
     ]
    }
   ],
   "source": [
    "for counter in range(10,0,-1):\n",
    "    print(counter,end=\",\")\n",
    "print(\"BLAST OFF! \")"
   ]
  },
  {
   "cell_type": "code",
   "execution_count": 16,
   "metadata": {},
   "outputs": [
    {
     "name": "stdout",
     "output_type": "stream",
     "text": [
      "0,7,14,21,28,35,42,49,56,63,70,77,84,91,98,105,112,119,126,133,140,147,154,161,168,175,182,189,196,203,210,217,224,231,238,245,252,259,266,273,280,287,294,301,308,315,322,329,336,343,350,357,364,371,378,385,392,399,406,413,420,427,434,441,448,455,462,469,476,483,490,497,504,511,518,525,532,539,546,553,560,567,574,581,588,595,602,609,616,623,630,637,644,651,658,665,672,679,686,693,700,"
     ]
    }
   ],
   "source": [
    "for counter in range(0,707,7):\n",
    "    print(counter,end=\",\")"
   ]
  },
  {
   "cell_type": "code",
   "execution_count": 68,
   "metadata": {},
   "outputs": [
    {
     "name": "stdout",
     "output_type": "stream",
     "text": [
      "0 -4 -8 -12 -16 -20 -24 -28 -32 -36 -40 -44 -48 -52 -56 -60 -64 -68 -72 -76 -80 -84 -88 -92 -96 -100 -104 -108 -112 -116 -120 -124 -128 -132 -136 -140 -144 -148 -152 -156 -160 -164 -168 -172 -176 -180 -184 -188 -192 -196 -200 -204 -208 -212 -216 -220 -224 -228 -232 -236 -240 -244 -248 -252 -256 -260 -264 -268 -272 -276 -280 -284 -288 -292 -296 -300 -304 -308 -312 -316 -320 -324 -328 -332 -336 -340 -344 -348 -352 -356 -360 -364 -368 -372 -376 -380 -384 -388 -392 -396 -400 -404 -408 -412 -416 -420 -424 -428 -432 -436 -440 -444 -448 -452 -456 -460 -464 -468 -472 -476 -480 -484 -488 -492 -496 -500 -504 -508 -512 -516 -520 -524 -528 -532 -536 -540 -544 -548 -552 -556 -560 -564 -568 -572 -576 -580 -584 -588 -592 -596 -600 -604 -608 -612 -616 -620 -624 -628 -632 -636 -640 -644 -648 -652 -656 -660 -664 -668 -672 -676 -680 -684 -688 -692 -696 -700 -704 -708 -712 -716 -720 -724 -728 -732 -736 -740 -744 -748 -752 -756 -760 -764 -768 -772 -776 -780 -784 -788 -792 -796 -800 -804 -808 -812 -816 -820 -824 -828 -832 -836 -840 -844 -848 -852 -856 -860 -864 -868 -872 -876 -880 -884 -888 -892 -896 -900 -904 -908 -912 -916 -920 -924 -928 -932 -936 -940 -944 -948 -952 -956 -960 -964 -968 -972 -976 -980 -984 -988 -992 -996 "
     ]
    }
   ],
   "source": [
    "for i in range(0,-1000,-3 and -4):\n",
    "    print(i,end=\" \")\n"
   ]
  },
  {
   "cell_type": "code",
   "execution_count": 114,
   "metadata": {},
   "outputs": [
    {
     "name": "stdout",
     "output_type": "stream",
     "text": [
      "dlrow olleh"
     ]
    }
   ],
   "source": [
    "message = \"hello world\" #the message you want to print backwards \n",
    "for i in range(len(message)-1,-1,-1): # len(messgage)-1 means it will go to the maximun digit and minus one \n",
    "    print(message[i],end = \"\") #prints message using i "
   ]
  },
  {
   "cell_type": "code",
   "execution_count": 117,
   "metadata": {},
   "outputs": [
    {
     "name": "stdout",
     "output_type": "stream",
     "text": [
      "0 1 4 9 16 25 36 49 64 81 100 "
     ]
    }
   ],
   "source": [
    "for i in range(0,11):\n",
    "    print(i**2,end=\" \")"
   ]
  }
 ],
 "metadata": {
  "kernelspec": {
   "display_name": "Python 3",
   "language": "python",
   "name": "python3"
  },
  "language_info": {
   "codemirror_mode": {
    "name": "ipython",
    "version": 3
   },
   "file_extension": ".py",
   "mimetype": "text/x-python",
   "name": "python",
   "nbconvert_exporter": "python",
   "pygments_lexer": "ipython3",
   "version": "3.5.2"
  }
 },
 "nbformat": 4,
 "nbformat_minor": 2
}
