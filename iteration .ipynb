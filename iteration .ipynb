{
 "cells": [
  {
   "cell_type": "code",
   "execution_count": 117,
   "metadata": {},
   "outputs": [
    {
     "name": "stdout",
     "output_type": "stream",
     "text": [
      "0,2,4,6,8,10,12,14,16,18,20,22,24,26,28,30,32,34,36,38,40,42,44,46,48,50,52,54,56,58,60,62,64,66,68,70,72,74,76,78,80,82,84,86,88,90,92,94,96,98,"
     ]
    }
   ],
   "source": [
    "for counter in range(0,100,2): # first value is your start value, second value is your end value, third value is your jump \n",
    "    print(counter,end=\",\")"
   ]
  },
  {
   "cell_type": "code",
   "execution_count": 116,
   "metadata": {},
   "outputs": [
    {
     "name": "stdout",
     "output_type": "stream",
     "text": [
      "do you want to continue? press s to stop x\n",
      "do you want to continue? press s to stop x\n",
      "do you want to continue? press s to stop x\n",
      "do you want to continue? press s to stop x\n",
      "do you want to continue? press s to stop x\n",
      "do you want to continue? press s to stop s\n"
     ]
    }
   ],
   "source": [
    "loopVar = \"x\"\n",
    "while loopVar == \"x\":\n",
    "    loopVar = input(\"do you want to continue? press s to stop \").lower()"
   ]
  },
  {
   "cell_type": "code",
   "execution_count": 306,
   "metadata": {},
   "outputs": [
    {
     "name": "stdout",
     "output_type": "stream",
     "text": [
      "you did not win this time but you have 4 lives left\n",
      "you did not win this time but you have 3 lives left\n",
      "you did not win this time but you have 2 lives left\n",
      "you did not win this time but you have 1 lives left\n",
      "you did not win this time but you have 0 lives left\n"
     ]
    }
   ],
   "source": [
    "import random\n",
    "won = False #at the start the game has not been won \n",
    "lives = 5 #you start with 5 lives \n",
    "\n",
    "while not won and lives > 0 :\n",
    "    lives = lives -1 #lose a life on each round\n",
    "    x= random.randint(0,10)\n",
    "    if x == 10 or x == 9:\n",
    "        won = True \n",
    "        print(\"YEAH! you have won!\")\n",
    "    else: \n",
    "        print(\"you did not win this time but you have\", lives, \"lives left\")"
   ]
  }
 ],
 "metadata": {
  "kernelspec": {
   "display_name": "Python 3",
   "language": "python",
   "name": "python3"
  },
  "language_info": {
   "codemirror_mode": {
    "name": "ipython",
    "version": 3
   },
   "file_extension": ".py",
   "mimetype": "text/x-python",
   "name": "python",
   "nbconvert_exporter": "python",
   "pygments_lexer": "ipython3",
   "version": "3.5.2"
  }
 },
 "nbformat": 4,
 "nbformat_minor": 2
}
