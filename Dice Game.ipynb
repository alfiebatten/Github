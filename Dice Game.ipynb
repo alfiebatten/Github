{
 "cells": [
  {
   "cell_type": "code",
   "execution_count": null,
   "metadata": {
    "collapsed": true
   },
   "outputs": [],
   "source": [
    "import time\n",
    "print(\"Hi!\") \n",
    "time.sleep(2)\n",
    "print(\"Welcome to the Master Dice Game\")\n",
    "name = input (\"What Should We Call You?\")\n",
    "print(\"Hey\" ,name)\n",
    "print(\"You are about to be put to the test against our BIGGEST,BADDEST,MEANEST dice roller we could find in the short amount of time we had\")\n",
    "print(name, \"Welcome USER_EXPERT\")\n",
    "import random\n",
    "from random import randint\n",
    "num = randint(1,6)\n",
    "print(name, \"goes first!\")\n",
    "print(name, \"ROLL!\")\n",
    "print(\".\")\n",
    "print(\"..\")\n",
    "print(\"...\")\n",
    "print(\"YOU ROLLED A\" ,num)"
   ]
  }
 ],
 "metadata": {
  "kernelspec": {
   "display_name": "Python 3",
   "language": "python",
   "name": "python3"
  },
  "language_info": {
   "codemirror_mode": {
    "name": "ipython",
    "version": 3
   },
   "file_extension": ".py",
   "mimetype": "text/x-python",
   "name": "python",
   "nbconvert_exporter": "python",
   "pygments_lexer": "ipython3",
   "version": "3.5.2"
  }
 },
 "nbformat": 4,
 "nbformat_minor": 2
}
