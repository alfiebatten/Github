{
 "cells": [
  {
   "cell_type": "markdown",
   "metadata": {},
   "source": [
    "# How to use colour codes in Python!"
   ]
  },
  {
   "cell_type": "markdown",
   "metadata": {},
   "source": [
    "### Baseline consept"
   ]
  },
  {
   "cell_type": "markdown",
   "metadata": {},
   "source": [
    "print(\"\\033[put in your text style value;put in your text colour value;put in your back round colour value  \\n\")"
   ]
  },
  {
   "cell_type": "markdown",
   "metadata": {},
   "source": [
    "### Example"
   ]
  },
  {
   "cell_type": "code",
   "execution_count": 5,
   "metadata": {},
   "outputs": [
    {
     "name": "stdout",
     "output_type": "stream",
     "text": [
      "\u001b[1;31;40m hello world\n"
     ]
    }
   ],
   "source": [
    "print(\"\\033[1;31;40m hello world\")"
   ]
  },
  {
   "cell_type": "markdown",
   "metadata": {},
   "source": [
    "As you can see this produces red text with a black background"
   ]
  },
  {
   "cell_type": "markdown",
   "metadata": {},
   "source": [
    "### Things to keep in mind\n",
    "\n",
    "The \\033 always stays there and must not be changed\n",
    "\n",
    "Seperate values with ;\n",
    "\n",
    "Put the colour code in brackets () and speech marks \"\""
   ]
  },
  {
   "cell_type": "markdown",
   "metadata": {},
   "source": [
    "### Table\n",
    "\n",
    "|TEXT COLOUR|CODE|TEXT STYLE|CODE|BACKGROUND|CODE|\n",
    "|---|---|---|---|---|---|\n",
    "|BLACK|30|NO EFFECT|0|BLACK|40|\n",
    "|RED|31|BOLD|1|RED|41|\n",
    "|GREEN|32|UNDERLINE|2|GREEN|42|\n",
    "|YELLOW|33|NEGATIVE 1|3|YELLOW|43|\n",
    "|BLUE|34|NEGATIVE 2|5|BLUE|44|\n",
    "|PURPLE|35|||PURPLE|45|\n",
    "|CYAN|36|||CYAN|46|\n",
    "|WHITE|37|||WHITE|47|"
   ]
  }
 ],
 "metadata": {
  "kernelspec": {
   "display_name": "Python 3",
   "language": "python",
   "name": "python3"
  },
  "language_info": {
   "codemirror_mode": {
    "name": "ipython",
    "version": 3
   },
   "file_extension": ".py",
   "mimetype": "text/x-python",
   "name": "python",
   "nbconvert_exporter": "python",
   "pygments_lexer": "ipython3",
   "version": "3.5.2"
  }
 },
 "nbformat": 4,
 "nbformat_minor": 2
}
