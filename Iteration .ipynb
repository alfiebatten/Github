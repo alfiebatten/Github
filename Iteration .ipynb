{
 "cells": [
  {
   "cell_type": "markdown",
   "metadata": {},
   "source": [
    "# Iteration\n",
    "### ` U S I N G  F O R  &  W H I L E  L O O P S `"
   ]
  },
  {
   "cell_type": "markdown",
   "metadata": {},
   "source": [
    "### TASK ONE\n",
    "Make a loop that goes from 0 to 100 in steps of 2 and is seperated by commas"
   ]
  },
  {
   "cell_type": "code",
   "execution_count": null,
   "metadata": {},
   "outputs": [],
   "source": [
    "for counter in range(0,100,2): # first value is your start value, second value is your end value, third value is your jump \n",
    "    print(counter,end=\",\")"
   ]
  },
  {
   "cell_type": "markdown",
   "metadata": {},
   "source": [
    "### TASK TWO\n",
    "Make a program that keeps repeating itself until the user stops clicking x"
   ]
  },
  {
   "cell_type": "code",
   "execution_count": 116,
   "metadata": {},
   "outputs": [
    {
     "name": "stdout",
     "output_type": "stream",
     "text": [
      "do you want to continue? press s to stop x\n",
      "do you want to continue? press s to stop x\n",
      "do you want to continue? press s to stop x\n",
      "do you want to continue? press s to stop x\n",
      "do you want to continue? press s to stop x\n",
      "do you want to continue? press s to stop s\n"
     ]
    }
   ],
   "source": [
    "loopVar = \"x\"\n",
    "while loopVar == \"x\":\n",
    "    loopVar = input(\"do you want to continue? press s to stop \").lower()"
   ]
  },
  {
   "cell_type": "markdown",
   "metadata": {},
   "source": [
    "### TASK THREE\n",
    "Make a program that causes the user loose a life if they dont get the correct number"
   ]
  },
  {
   "cell_type": "code",
   "execution_count": 306,
   "metadata": {},
   "outputs": [
    {
     "name": "stdout",
     "output_type": "stream",
     "text": [
      "you did not win this time but you have 4 lives left\n",
      "you did not win this time but you have 3 lives left\n",
      "you did not win this time but you have 2 lives left\n",
      "you did not win this time but you have 1 lives left\n",
      "you did not win this time but you have 0 lives left\n"
     ]
    }
   ],
   "source": [
    "import random\n",
    "won = False #at the start the game has not been won \n",
    "lives = 5 #you start with 5 lives \n",
    "\n",
    "while not won and lives > 0 :\n",
    "    lives = lives -1 #lose a life on each round\n",
    "    x= random.randint(0,10)\n",
    "    if x == 10 or x == 9:\n",
    "        won = True \n",
    "        print(\"YEAH! you have won!\")\n",
    "    else: \n",
    "        print(\"you did not win this time but you have\", lives, \"lives left\")"
   ]
  },
  {
   "cell_type": "markdown",
   "metadata": {},
   "source": [
    "### TASK FOUR \n",
    "Make a program that counts from 10 to 1 and then prints BLAST OFF!"
   ]
  },
  {
   "cell_type": "code",
   "execution_count": 27,
   "metadata": {},
   "outputs": [
    {
     "name": "stdout",
     "output_type": "stream",
     "text": [
      "10,9,8,7,6,5,4,3,2,1,BLAST OFF! \n"
     ]
    }
   ],
   "source": [
    "for counter in range(10,0,-1):\n",
    "    print(counter,end=\",\")\n",
    "print(\"BLAST OFF! \")"
   ]
  },
  {
   "cell_type": "markdown",
   "metadata": {},
   "source": [
    "### TASK FIVE\n",
    "Using a for loop, print 'hello world' backwards"
   ]
  },
  {
   "cell_type": "code",
   "execution_count": 114,
   "metadata": {},
   "outputs": [
    {
     "name": "stdout",
     "output_type": "stream",
     "text": [
      "dlrow olleh"
     ]
    }
   ],
   "source": [
    "message = \"hello world\" #the message you want to print backwards \n",
    "for i in range(len(message)-1,-1,-1): # len(messgage)-1 means it will go to the maximun digit and minus one \n",
    "    print(message[i],end = \"\") #prints message using i "
   ]
  }
 ],
 "metadata": {
  "kernelspec": {
   "display_name": "Python 3",
   "language": "python",
   "name": "python3"
  },
  "language_info": {
   "codemirror_mode": {
    "name": "ipython",
    "version": 3
   },
   "file_extension": ".py",
   "mimetype": "text/x-python",
   "name": "python",
   "nbconvert_exporter": "python",
   "pygments_lexer": "ipython3",
   "version": "3.5.2"
  }
 },
 "nbformat": 4,
 "nbformat_minor": 2
}
